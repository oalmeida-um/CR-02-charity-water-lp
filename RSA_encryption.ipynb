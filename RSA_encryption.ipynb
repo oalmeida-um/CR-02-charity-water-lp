{
  "nbformat": 4,
  "nbformat_minor": 0,
  "metadata": {
    "colab": {
      "provenance": [],
      "include_colab_link": true
    },
    "kernelspec": {
      "name": "python3",
      "display_name": "Python 3"
    },
    "language_info": {
      "name": "python"
    }
  },
  "cells": [
    {
      "cell_type": "markdown",
      "metadata": {
        "id": "view-in-github",
        "colab_type": "text"
      },
      "source": [
        "<a href=\"https://colab.research.google.com/github/oalmeida-um/CR-02-charity-water-lp/blob/main/RSA_encryption.ipynb\" target=\"_parent\"><img src=\"https://colab.research.google.com/assets/colab-badge.svg\" alt=\"Open In Colab\"/></a>"
      ]
    },
    {
      "cell_type": "markdown",
      "source": [
        "You can find prime numbers listed at https://www.easycalculation.com/prime-number-charts.php"
      ],
      "metadata": {
        "id": "msSlH6jpXg1D"
      }
    },
    {
      "cell_type": "code",
      "execution_count": null,
      "metadata": {
        "id": "I8pf4LTAO7HV"
      },
      "outputs": [],
      "source": [
        "import math\n",
        "from math import gcd as bltin_gcd\n",
        "\n",
        "def coprime(a, b):\n",
        "    return bltin_gcd(a, b) == 1\n",
        "\n",
        "entered_string = input('Enter a two-character string to encrypt.\\n')\n",
        "if len(entered_string) > 2:\n",
        "    print('You entered a string longer than two characters. We\\'ll just use the first two characters of your string.')\n",
        "    s = entered_string[:2]\n",
        "elif len(entered_string) == 1:\n",
        "    print('You entered only one character. We\\'ll double your character to give it a length of 2.')\n",
        "    s = entered_string * 2\n",
        "elif entered_string == '':\n",
        "    print('You entered an empty string. We\\'ll use the string \"AA\".')\n",
        "    s = 'AA'\n",
        "else:\n",
        "    s = entered_string\n",
        "s_as_integer = int.from_bytes(s.encode('utf-8'), byteorder='big', signed=False)\n",
        "print('message as an integer:', s_as_integer)\n",
        "while True:\n",
        "    p = int(input('Enter a prime number for p that is between 256 and 1000.\\n'))\n",
        "    q = int(input('Enter a prime number for q that is between 256 and 1000 and is unequal to p.\\n'))\n",
        "    n = p*q\n",
        "    if n < s_as_integer:\n",
        "        print('Your prime numbers are too small')\n",
        "        continue\n",
        "    elif p > 1000 or q > 1000:\n",
        "        print('Your prime numbers are too large')\n",
        "        continue\n",
        "    else:\n",
        "        break\n",
        "\n",
        "print('The reason why each of p and q need to be greater than 256')\n",
        "print(' is to ensure that n is greater than the integer rep of two ASCII characters')\n",
        "print('The product of your two prime numbers is', n)\n",
        "phi_n = (p - 1) * (q - 1)\n",
        "print('The value of phi(n) is', phi_n)\n",
        "while True:\n",
        "    e = int(input('Enter a number for e that is between 1 and phi(n) and is coprime to phi(n).\\n'))\n",
        "    if coprime(e, phi_n):\n",
        "        break\n",
        "    else:\n",
        "        print('Your number is not coprime to phi(n).')\n",
        "d = pow(e, -1, phi_n)\n",
        "print('The public keys are', n, e)\n",
        "print('The private keys are', n, d)\n",
        "encrypted_integer = pow(s_as_integer, e, n)\n",
        "print('Message as integer encrypted', encrypted_integer)\n",
        "print('We\\'ll now decrypt your message.')\n",
        "_ = input('Press enter to continue.')\n",
        "decrypted_integer = pow(encrypted_integer, d, n)\n",
        "print('decrypted integer', decrypted_integer)\n",
        "ds = decrypted_integer.to_bytes(math.ceil((decrypted_integer).bit_length() / 8), byteorder = 'big', signed=False).decode('utf-8')\n",
        "print('decrypted message', ds)"
      ]
    },
    {
      "cell_type": "code",
      "source": [],
      "metadata": {
        "id": "mCmB5zClQBh3"
      },
      "execution_count": null,
      "outputs": []
    }
  ]
}